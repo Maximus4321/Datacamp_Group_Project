{
 "cells": [
  {
   "cell_type": "markdown",
   "metadata": {},
   "source": [
    "# Fatality Predictor - Notebook 3 - Évaluation des Modèles\n",
    "\n",
    "Dans ce dernier notebook, nous évaluons les performances finales des modèles en comparant leurs prédictions y_pred sur X_test avec les vraies étiquettes y_test. Nous nous concentrerons uniquement sur l’accuracy et afficherons un récapitulatif des scores."
   ]
  },
  {
   "cell_type": "code",
   "execution_count": 1,
   "metadata": {},
   "outputs": [
    {
     "name": "stdout",
     "output_type": "stream",
     "text": [
      "Tableau des performances des modèles :\n",
      "\n",
      "              Modèle  Accuracy\n",
      "   Gradient Boosting    0.7126\n",
      "HistGradientBoosting    0.7090\n",
      "         y_pred_vote    0.7049\n",
      "       Random Forest    0.6860\n",
      "            AdaBoost    0.6853\n",
      "MLP (Neural Network)    0.6806\n"
     ]
    }
   ],
   "source": [
    "import pandas as pd\n",
    "import numpy as np\n",
    "from sklearn.metrics import accuracy_score\n",
    "import matplotlib.pyplot as plt\n",
    "import seaborn as sns\n",
    "from sklearn.metrics import confusion_matrix\n",
    "\n",
    "import warnings\n",
    "warnings.filterwarnings(\"ignore\")\n",
    "\n",
    "y_test = pd.read_csv(\"/Users/sachaabitbol/Desktop/Projet Ramp SMS/y_test.csv\")[\"y\"]\n",
    "y_preds_df = pd.read_csv(\"/Users/sachaabitbol/Desktop/Projet Ramp SMS/y_pred.csv\")\n",
    "\n",
    "model_names = list(y_preds_df.columns)\n",
    "y_preds = {model: y_preds_df[model] for model in model_names}\n",
    "\n",
    "accuracy_scores = {}\n",
    "for model_name, y_pred in y_preds.items():\n",
    "\n",
    "    acc = accuracy_score(y_test, y_pred)\n",
    "    accuracy_scores[model_name] = round(acc, 4)\n",
    "\n",
    "accuracy_df = pd.DataFrame(list(accuracy_scores.items()), columns=[\"Modèle\", \"Accuracy\"])\n",
    "accuracy_df = accuracy_df.sort_values(by=\"Accuracy\", ascending=False)\n",
    "\n",
    "print(\"Tableau des performances des modèles :\\n\")\n",
    "print(accuracy_df.to_string(index=False))"
   ]
  }
 ],
 "metadata": {
  "kernelspec": {
   "display_name": "Python 3",
   "language": "python",
   "name": "python3"
  },
  "language_info": {
   "codemirror_mode": {
    "name": "ipython",
    "version": 3
   },
   "file_extension": ".py",
   "mimetype": "text/x-python",
   "name": "python",
   "nbconvert_exporter": "python",
   "pygments_lexer": "ipython3",
   "version": "3.9.6"
  }
 },
 "nbformat": 4,
 "nbformat_minor": 2
}
